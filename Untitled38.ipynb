{
  "nbformat": 4,
  "nbformat_minor": 0,
  "metadata": {
    "colab": {
      "provenance": [],
      "include_colab_link": true
    },
    "kernelspec": {
      "name": "python3",
      "display_name": "Python 3"
    },
    "language_info": {
      "name": "python"
    }
  },
  "cells": [
    {
      "cell_type": "markdown",
      "metadata": {
        "id": "view-in-github",
        "colab_type": "text"
      },
      "source": [
        "<a href=\"https://colab.research.google.com/github/mroblesm/colab_notebooks/blob/main/Untitled38.ipynb\" target=\"_parent\"><img src=\"https://colab.research.google.com/assets/colab-badge.svg\" alt=\"Open In Colab\"/></a>"
      ]
    },
    {
      "source": [
        "# Task\n",
        "Analyze this data and create a predictive model to predict the Global_active_power variable\n",
        "\n",
        "Here is all the data you need:\n",
        "\"household_power_consumption.txt\""
      ],
      "cell_type": "markdown",
      "metadata": {
        "id": "mFuycmIQmXZE"
      }
    },
    {
      "source": [
        "## Data loading\n",
        "\n",
        "### Subtask:\n",
        "Load the data from the provided file \"household_power_consumption.txt\" into a pandas DataFrame.\n"
      ],
      "cell_type": "markdown",
      "metadata": {
        "id": "bqnqws82mX0l"
      }
    },
    {
      "cell_type": "code",
      "source": [
        "import kagglehub\n",
        "\n",
        "# Download latest version\n",
        "path = kagglehub.dataset_download(\"uciml/electric-power-consumption-data-set\")\n",
        "\n",
        "print(\"Path to dataset files:\", path)"
      ],
      "metadata": {
        "colab": {
          "base_uri": "https://localhost:8080/"
        },
        "id": "BGgXJvRCPIlc",
        "outputId": "9284d7ab-30d5-4ab1-a4bc-c50ad9bb635f"
      },
      "execution_count": 2,
      "outputs": [
        {
          "output_type": "stream",
          "name": "stdout",
          "text": [
            "Downloading from https://www.kaggle.com/api/v1/datasets/download/uciml/electric-power-consumption-data-set?dataset_version_number=1...\n"
          ]
        },
        {
          "output_type": "stream",
          "name": "stderr",
          "text": [
            "100%|██████████| 19.4M/19.4M [00:00<00:00, 143MB/s]"
          ]
        },
        {
          "output_type": "stream",
          "name": "stdout",
          "text": [
            "Extracting files...\n"
          ]
        },
        {
          "output_type": "stream",
          "name": "stderr",
          "text": [
            "\n"
          ]
        },
        {
          "output_type": "stream",
          "name": "stdout",
          "text": [
            "Path to dataset files: /root/.cache/kagglehub/datasets/uciml/electric-power-consumption-data-set/versions/1\n"
          ]
        }
      ]
    },
    {
      "source": [
        "**Reasoning**:\n",
        "Load the data from the provided file \"household_power_consumption.txt\" into a pandas DataFrame, handling the delimiter, header, date/time parsing, and missing values.\n",
        "\n"
      ],
      "cell_type": "markdown",
      "metadata": {
        "id": "pkHchP3qmY6Q"
      }
    },
    {
      "source": [
        "import pandas as pd\n",
        "\n",
        "# Define a custom date parser function\n",
        "def date_parser(x):\n",
        "    return pd.to_datetime(x, format='%d/%m/%Y %H:%M:%S', errors='coerce')\n",
        "\n",
        "# Read the data, specifying the delimiter, header, and date/time parsing\n",
        "df = pd.read_csv(f'{path}/household_power_consumption.txt', sep=';', header=0, low_memory=False,\n",
        "                 parse_dates={'datetime': ['Date', 'Time']}, date_parser=date_parser, na_values='?')\n",
        "\n",
        "# Display the first few rows of the DataFrame\n",
        "display(df.head())"
      ],
      "cell_type": "code",
      "metadata": {
        "colab": {
          "base_uri": "https://localhost:8080/",
          "height": 296
        },
        "id": "nDo9KzKpmZSU",
        "outputId": "21a628d4-c5e6-4482-dfb8-a27ac8c5b09c"
      },
      "execution_count": 5,
      "outputs": [
        {
          "output_type": "stream",
          "name": "stderr",
          "text": [
            "<ipython-input-5-37dada03cf9a>:8: FutureWarning: Support for nested sequences for 'parse_dates' in pd.read_csv is deprecated. Combine the desired columns with pd.to_datetime after parsing instead.\n",
            "  df = pd.read_csv(f'{path}/household_power_consumption.txt', sep=';', header=0, low_memory=False,\n",
            "<ipython-input-5-37dada03cf9a>:8: FutureWarning: The argument 'date_parser' is deprecated and will be removed in a future version. Please use 'date_format' instead, or read your data in as 'object' dtype and then call 'to_datetime'.\n",
            "  df = pd.read_csv(f'{path}/household_power_consumption.txt', sep=';', header=0, low_memory=False,\n"
          ]
        },
        {
          "output_type": "display_data",
          "data": {
            "text/plain": [
              "             datetime  Global_active_power  Global_reactive_power  Voltage  \\\n",
              "0 2006-12-16 17:24:00                4.216                  0.418   234.84   \n",
              "1 2006-12-16 17:25:00                5.360                  0.436   233.63   \n",
              "2 2006-12-16 17:26:00                5.374                  0.498   233.29   \n",
              "3 2006-12-16 17:27:00                5.388                  0.502   233.74   \n",
              "4 2006-12-16 17:28:00                3.666                  0.528   235.68   \n",
              "\n",
              "   Global_intensity  Sub_metering_1  Sub_metering_2  Sub_metering_3  \n",
              "0              18.4             0.0             1.0            17.0  \n",
              "1              23.0             0.0             1.0            16.0  \n",
              "2              23.0             0.0             2.0            17.0  \n",
              "3              23.0             0.0             1.0            17.0  \n",
              "4              15.8             0.0             1.0            17.0  "
            ],
            "text/html": [
              "\n",
              "  <div id=\"df-4dad0cde-5f9f-45c3-bcbe-687aa6fa5ccb\" class=\"colab-df-container\">\n",
              "    <div>\n",
              "<style scoped>\n",
              "    .dataframe tbody tr th:only-of-type {\n",
              "        vertical-align: middle;\n",
              "    }\n",
              "\n",
              "    .dataframe tbody tr th {\n",
              "        vertical-align: top;\n",
              "    }\n",
              "\n",
              "    .dataframe thead th {\n",
              "        text-align: right;\n",
              "    }\n",
              "</style>\n",
              "<table border=\"1\" class=\"dataframe\">\n",
              "  <thead>\n",
              "    <tr style=\"text-align: right;\">\n",
              "      <th></th>\n",
              "      <th>datetime</th>\n",
              "      <th>Global_active_power</th>\n",
              "      <th>Global_reactive_power</th>\n",
              "      <th>Voltage</th>\n",
              "      <th>Global_intensity</th>\n",
              "      <th>Sub_metering_1</th>\n",
              "      <th>Sub_metering_2</th>\n",
              "      <th>Sub_metering_3</th>\n",
              "    </tr>\n",
              "  </thead>\n",
              "  <tbody>\n",
              "    <tr>\n",
              "      <th>0</th>\n",
              "      <td>2006-12-16 17:24:00</td>\n",
              "      <td>4.216</td>\n",
              "      <td>0.418</td>\n",
              "      <td>234.84</td>\n",
              "      <td>18.4</td>\n",
              "      <td>0.0</td>\n",
              "      <td>1.0</td>\n",
              "      <td>17.0</td>\n",
              "    </tr>\n",
              "    <tr>\n",
              "      <th>1</th>\n",
              "      <td>2006-12-16 17:25:00</td>\n",
              "      <td>5.360</td>\n",
              "      <td>0.436</td>\n",
              "      <td>233.63</td>\n",
              "      <td>23.0</td>\n",
              "      <td>0.0</td>\n",
              "      <td>1.0</td>\n",
              "      <td>16.0</td>\n",
              "    </tr>\n",
              "    <tr>\n",
              "      <th>2</th>\n",
              "      <td>2006-12-16 17:26:00</td>\n",
              "      <td>5.374</td>\n",
              "      <td>0.498</td>\n",
              "      <td>233.29</td>\n",
              "      <td>23.0</td>\n",
              "      <td>0.0</td>\n",
              "      <td>2.0</td>\n",
              "      <td>17.0</td>\n",
              "    </tr>\n",
              "    <tr>\n",
              "      <th>3</th>\n",
              "      <td>2006-12-16 17:27:00</td>\n",
              "      <td>5.388</td>\n",
              "      <td>0.502</td>\n",
              "      <td>233.74</td>\n",
              "      <td>23.0</td>\n",
              "      <td>0.0</td>\n",
              "      <td>1.0</td>\n",
              "      <td>17.0</td>\n",
              "    </tr>\n",
              "    <tr>\n",
              "      <th>4</th>\n",
              "      <td>2006-12-16 17:28:00</td>\n",
              "      <td>3.666</td>\n",
              "      <td>0.528</td>\n",
              "      <td>235.68</td>\n",
              "      <td>15.8</td>\n",
              "      <td>0.0</td>\n",
              "      <td>1.0</td>\n",
              "      <td>17.0</td>\n",
              "    </tr>\n",
              "  </tbody>\n",
              "</table>\n",
              "</div>\n",
              "    <div class=\"colab-df-buttons\">\n",
              "\n",
              "  <div class=\"colab-df-container\">\n",
              "    <button class=\"colab-df-convert\" onclick=\"convertToInteractive('df-4dad0cde-5f9f-45c3-bcbe-687aa6fa5ccb')\"\n",
              "            title=\"Convert this dataframe to an interactive table.\"\n",
              "            style=\"display:none;\">\n",
              "\n",
              "  <svg xmlns=\"http://www.w3.org/2000/svg\" height=\"24px\" viewBox=\"0 -960 960 960\">\n",
              "    <path d=\"M120-120v-720h720v720H120Zm60-500h600v-160H180v160Zm220 220h160v-160H400v160Zm0 220h160v-160H400v160ZM180-400h160v-160H180v160Zm440 0h160v-160H620v160ZM180-180h160v-160H180v160Zm440 0h160v-160H620v160Z\"/>\n",
              "  </svg>\n",
              "    </button>\n",
              "\n",
              "  <style>\n",
              "    .colab-df-container {\n",
              "      display:flex;\n",
              "      gap: 12px;\n",
              "    }\n",
              "\n",
              "    .colab-df-convert {\n",
              "      background-color: #E8F0FE;\n",
              "      border: none;\n",
              "      border-radius: 50%;\n",
              "      cursor: pointer;\n",
              "      display: none;\n",
              "      fill: #1967D2;\n",
              "      height: 32px;\n",
              "      padding: 0 0 0 0;\n",
              "      width: 32px;\n",
              "    }\n",
              "\n",
              "    .colab-df-convert:hover {\n",
              "      background-color: #E2EBFA;\n",
              "      box-shadow: 0px 1px 2px rgba(60, 64, 67, 0.3), 0px 1px 3px 1px rgba(60, 64, 67, 0.15);\n",
              "      fill: #174EA6;\n",
              "    }\n",
              "\n",
              "    .colab-df-buttons div {\n",
              "      margin-bottom: 4px;\n",
              "    }\n",
              "\n",
              "    [theme=dark] .colab-df-convert {\n",
              "      background-color: #3B4455;\n",
              "      fill: #D2E3FC;\n",
              "    }\n",
              "\n",
              "    [theme=dark] .colab-df-convert:hover {\n",
              "      background-color: #434B5C;\n",
              "      box-shadow: 0px 1px 3px 1px rgba(0, 0, 0, 0.15);\n",
              "      filter: drop-shadow(0px 1px 2px rgba(0, 0, 0, 0.3));\n",
              "      fill: #FFFFFF;\n",
              "    }\n",
              "  </style>\n",
              "\n",
              "    <script>\n",
              "      const buttonEl =\n",
              "        document.querySelector('#df-4dad0cde-5f9f-45c3-bcbe-687aa6fa5ccb button.colab-df-convert');\n",
              "      buttonEl.style.display =\n",
              "        google.colab.kernel.accessAllowed ? 'block' : 'none';\n",
              "\n",
              "      async function convertToInteractive(key) {\n",
              "        const element = document.querySelector('#df-4dad0cde-5f9f-45c3-bcbe-687aa6fa5ccb');\n",
              "        const dataTable =\n",
              "          await google.colab.kernel.invokeFunction('convertToInteractive',\n",
              "                                                    [key], {});\n",
              "        if (!dataTable) return;\n",
              "\n",
              "        const docLinkHtml = 'Like what you see? Visit the ' +\n",
              "          '<a target=\"_blank\" href=https://colab.research.google.com/notebooks/data_table.ipynb>data table notebook</a>'\n",
              "          + ' to learn more about interactive tables.';\n",
              "        element.innerHTML = '';\n",
              "        dataTable['output_type'] = 'display_data';\n",
              "        await google.colab.output.renderOutput(dataTable, element);\n",
              "        const docLink = document.createElement('div');\n",
              "        docLink.innerHTML = docLinkHtml;\n",
              "        element.appendChild(docLink);\n",
              "      }\n",
              "    </script>\n",
              "  </div>\n",
              "\n",
              "\n",
              "<div id=\"df-9380d4a0-4e6b-46ab-8f9f-70c1c4338165\">\n",
              "  <button class=\"colab-df-quickchart\" onclick=\"quickchart('df-9380d4a0-4e6b-46ab-8f9f-70c1c4338165')\"\n",
              "            title=\"Suggest charts\"\n",
              "            style=\"display:none;\">\n",
              "\n",
              "<svg xmlns=\"http://www.w3.org/2000/svg\" height=\"24px\"viewBox=\"0 0 24 24\"\n",
              "     width=\"24px\">\n",
              "    <g>\n",
              "        <path d=\"M19 3H5c-1.1 0-2 .9-2 2v14c0 1.1.9 2 2 2h14c1.1 0 2-.9 2-2V5c0-1.1-.9-2-2-2zM9 17H7v-7h2v7zm4 0h-2V7h2v10zm4 0h-2v-4h2v4z\"/>\n",
              "    </g>\n",
              "</svg>\n",
              "  </button>\n",
              "\n",
              "<style>\n",
              "  .colab-df-quickchart {\n",
              "      --bg-color: #E8F0FE;\n",
              "      --fill-color: #1967D2;\n",
              "      --hover-bg-color: #E2EBFA;\n",
              "      --hover-fill-color: #174EA6;\n",
              "      --disabled-fill-color: #AAA;\n",
              "      --disabled-bg-color: #DDD;\n",
              "  }\n",
              "\n",
              "  [theme=dark] .colab-df-quickchart {\n",
              "      --bg-color: #3B4455;\n",
              "      --fill-color: #D2E3FC;\n",
              "      --hover-bg-color: #434B5C;\n",
              "      --hover-fill-color: #FFFFFF;\n",
              "      --disabled-bg-color: #3B4455;\n",
              "      --disabled-fill-color: #666;\n",
              "  }\n",
              "\n",
              "  .colab-df-quickchart {\n",
              "    background-color: var(--bg-color);\n",
              "    border: none;\n",
              "    border-radius: 50%;\n",
              "    cursor: pointer;\n",
              "    display: none;\n",
              "    fill: var(--fill-color);\n",
              "    height: 32px;\n",
              "    padding: 0;\n",
              "    width: 32px;\n",
              "  }\n",
              "\n",
              "  .colab-df-quickchart:hover {\n",
              "    background-color: var(--hover-bg-color);\n",
              "    box-shadow: 0 1px 2px rgba(60, 64, 67, 0.3), 0 1px 3px 1px rgba(60, 64, 67, 0.15);\n",
              "    fill: var(--button-hover-fill-color);\n",
              "  }\n",
              "\n",
              "  .colab-df-quickchart-complete:disabled,\n",
              "  .colab-df-quickchart-complete:disabled:hover {\n",
              "    background-color: var(--disabled-bg-color);\n",
              "    fill: var(--disabled-fill-color);\n",
              "    box-shadow: none;\n",
              "  }\n",
              "\n",
              "  .colab-df-spinner {\n",
              "    border: 2px solid var(--fill-color);\n",
              "    border-color: transparent;\n",
              "    border-bottom-color: var(--fill-color);\n",
              "    animation:\n",
              "      spin 1s steps(1) infinite;\n",
              "  }\n",
              "\n",
              "  @keyframes spin {\n",
              "    0% {\n",
              "      border-color: transparent;\n",
              "      border-bottom-color: var(--fill-color);\n",
              "      border-left-color: var(--fill-color);\n",
              "    }\n",
              "    20% {\n",
              "      border-color: transparent;\n",
              "      border-left-color: var(--fill-color);\n",
              "      border-top-color: var(--fill-color);\n",
              "    }\n",
              "    30% {\n",
              "      border-color: transparent;\n",
              "      border-left-color: var(--fill-color);\n",
              "      border-top-color: var(--fill-color);\n",
              "      border-right-color: var(--fill-color);\n",
              "    }\n",
              "    40% {\n",
              "      border-color: transparent;\n",
              "      border-right-color: var(--fill-color);\n",
              "      border-top-color: var(--fill-color);\n",
              "    }\n",
              "    60% {\n",
              "      border-color: transparent;\n",
              "      border-right-color: var(--fill-color);\n",
              "    }\n",
              "    80% {\n",
              "      border-color: transparent;\n",
              "      border-right-color: var(--fill-color);\n",
              "      border-bottom-color: var(--fill-color);\n",
              "    }\n",
              "    90% {\n",
              "      border-color: transparent;\n",
              "      border-bottom-color: var(--fill-color);\n",
              "    }\n",
              "  }\n",
              "</style>\n",
              "\n",
              "  <script>\n",
              "    async function quickchart(key) {\n",
              "      const quickchartButtonEl =\n",
              "        document.querySelector('#' + key + ' button');\n",
              "      quickchartButtonEl.disabled = true;  // To prevent multiple clicks.\n",
              "      quickchartButtonEl.classList.add('colab-df-spinner');\n",
              "      try {\n",
              "        const charts = await google.colab.kernel.invokeFunction(\n",
              "            'suggestCharts', [key], {});\n",
              "      } catch (error) {\n",
              "        console.error('Error during call to suggestCharts:', error);\n",
              "      }\n",
              "      quickchartButtonEl.classList.remove('colab-df-spinner');\n",
              "      quickchartButtonEl.classList.add('colab-df-quickchart-complete');\n",
              "    }\n",
              "    (() => {\n",
              "      let quickchartButtonEl =\n",
              "        document.querySelector('#df-9380d4a0-4e6b-46ab-8f9f-70c1c4338165 button');\n",
              "      quickchartButtonEl.style.display =\n",
              "        google.colab.kernel.accessAllowed ? 'block' : 'none';\n",
              "    })();\n",
              "  </script>\n",
              "</div>\n",
              "\n",
              "    </div>\n",
              "  </div>\n"
            ],
            "application/vnd.google.colaboratory.intrinsic+json": {
              "type": "dataframe",
              "summary": "{\n  \"name\": \"display(df\",\n  \"rows\": 5,\n  \"fields\": [\n    {\n      \"column\": \"datetime\",\n      \"properties\": {\n        \"dtype\": \"date\",\n        \"min\": \"2006-12-16 17:24:00\",\n        \"max\": \"2006-12-16 17:28:00\",\n        \"num_unique_values\": 5,\n        \"samples\": [\n          \"2006-12-16 17:25:00\",\n          \"2006-12-16 17:28:00\",\n          \"2006-12-16 17:26:00\"\n        ],\n        \"semantic_type\": \"\",\n        \"description\": \"\"\n      }\n    },\n    {\n      \"column\": \"Global_active_power\",\n      \"properties\": {\n        \"dtype\": \"number\",\n        \"std\": 0.8086762021971463,\n        \"min\": 3.666,\n        \"max\": 5.388,\n        \"num_unique_values\": 5,\n        \"samples\": [\n          5.36,\n          3.666,\n          5.374\n        ],\n        \"semantic_type\": \"\",\n        \"description\": \"\"\n      }\n    },\n    {\n      \"column\": \"Global_reactive_power\",\n      \"properties\": {\n        \"dtype\": \"number\",\n        \"std\": 0.04697658991455213,\n        \"min\": 0.418,\n        \"max\": 0.528,\n        \"num_unique_values\": 5,\n        \"samples\": [\n          0.436,\n          0.528,\n          0.498\n        ],\n        \"semantic_type\": \"\",\n        \"description\": \"\"\n      }\n    },\n    {\n      \"column\": \"Voltage\",\n      \"properties\": {\n        \"dtype\": \"number\",\n        \"std\": 0.9947512251814565,\n        \"min\": 233.29,\n        \"max\": 235.68,\n        \"num_unique_values\": 5,\n        \"samples\": [\n          233.63,\n          235.68,\n          233.29\n        ],\n        \"semantic_type\": \"\",\n        \"description\": \"\"\n      }\n    },\n    {\n      \"column\": \"Global_intensity\",\n      \"properties\": {\n        \"dtype\": \"number\",\n        \"std\": 3.359761896325393,\n        \"min\": 15.8,\n        \"max\": 23.0,\n        \"num_unique_values\": 3,\n        \"samples\": [\n          18.4,\n          23.0,\n          15.8\n        ],\n        \"semantic_type\": \"\",\n        \"description\": \"\"\n      }\n    },\n    {\n      \"column\": \"Sub_metering_1\",\n      \"properties\": {\n        \"dtype\": \"number\",\n        \"std\": 0.0,\n        \"min\": 0.0,\n        \"max\": 0.0,\n        \"num_unique_values\": 1,\n        \"samples\": [\n          0.0\n        ],\n        \"semantic_type\": \"\",\n        \"description\": \"\"\n      }\n    },\n    {\n      \"column\": \"Sub_metering_2\",\n      \"properties\": {\n        \"dtype\": \"number\",\n        \"std\": 0.4472135954999579,\n        \"min\": 1.0,\n        \"max\": 2.0,\n        \"num_unique_values\": 2,\n        \"samples\": [\n          2.0\n        ],\n        \"semantic_type\": \"\",\n        \"description\": \"\"\n      }\n    },\n    {\n      \"column\": \"Sub_metering_3\",\n      \"properties\": {\n        \"dtype\": \"number\",\n        \"std\": 0.4472135954999579,\n        \"min\": 16.0,\n        \"max\": 17.0,\n        \"num_unique_values\": 2,\n        \"samples\": [\n          16.0\n        ],\n        \"semantic_type\": \"\",\n        \"description\": \"\"\n      }\n    }\n  ]\n}"
            }
          },
          "metadata": {}
        }
      ]
    },
    {
      "source": [
        "**Reasoning**:\n",
        "The previous code block successfully loaded the data, but it generated some warnings about deprecated arguments.  I'll address those warnings by removing the deprecated arguments and using the recommended approach, and then check the data types to ensure the data was loaded correctly.\n",
        "\n"
      ],
      "cell_type": "markdown",
      "metadata": {
        "id": "mb8HkK1onjXz"
      }
    },
    {
      "source": [
        "import pandas as pd\n",
        "\n",
        "# Define a custom date parser function\n",
        "def date_parser(x):\n",
        "    return pd.to_datetime(x, format='%d/%m/%Y %H:%M:%S', errors='coerce')\n",
        "\n",
        "# Read the data, specifying the delimiter, header, and date/time parsing\n",
        "df = pd.read_csv('household_power_consumption.txt', sep=';', header=0, low_memory=False, na_values='?')\n",
        "\n",
        "#Combine the \"Date\" and \"Time\" columns into a single datetime column.\n",
        "df['datetime'] = pd.to_datetime(df['Date'] + ' ' + df['Time'], format='%d/%m/%Y %H:%M:%S', errors='coerce')\n",
        "\n",
        "\n",
        "# Display the first few rows of the DataFrame\n",
        "display(df.head())\n",
        "display(df.info())"
      ],
      "cell_type": "code",
      "metadata": {
        "id": "EuPcb8eTnjv6"
      },
      "execution_count": null,
      "outputs": []
    },
    {
      "source": [
        "## Data exploration\n",
        "\n",
        "### Subtask:\n",
        "Explore the dataset to understand its characteristics.\n"
      ],
      "cell_type": "markdown",
      "metadata": {
        "id": "HklekaMDnqMa"
      }
    },
    {
      "source": [
        "**Reasoning**:\n",
        "Examine the shape of the DataFrame, check data types, identify missing values, calculate descriptive statistics for numerical columns, and visualize the distribution of 'Global_active_power'.\n",
        "\n"
      ],
      "cell_type": "markdown",
      "metadata": {
        "id": "rLmuxfpEnrak"
      }
    },
    {
      "source": [
        "import matplotlib.pyplot as plt\n",
        "import seaborn as sns\n",
        "\n",
        "# 1. Examine the shape of the DataFrame\n",
        "print(\"Shape of the DataFrame:\", df.shape)\n",
        "\n",
        "# 2. Check data types and convert 'datetime' if necessary\n",
        "print(\"\\nData Types:\\n\", df.dtypes)\n",
        "\n",
        "# 3. Identify and quantify missing values\n",
        "print(\"\\nMissing Values:\\n\", df.isnull().sum())\n",
        "\n",
        "# 4. Descriptive statistics and histogram\n",
        "numerical_cols = df.select_dtypes(include=['number']).columns\n",
        "print(\"\\nDescriptive Statistics for Numerical Columns:\\n\", df[numerical_cols].describe())\n",
        "\n",
        "plt.figure(figsize=(10, 6))\n",
        "plt.hist(df['Global_active_power'].dropna(), bins=50, color='skyblue', edgecolor='black')\n",
        "plt.title('Distribution of Global Active Power')\n",
        "plt.xlabel('Global Active Power')\n",
        "plt.ylabel('Frequency')\n",
        "plt.show()"
      ],
      "cell_type": "code",
      "metadata": {
        "id": "Br3lK1ZEnrzj"
      },
      "execution_count": null,
      "outputs": []
    },
    {
      "source": [
        "**Reasoning**:\n",
        "Analyze the distribution of data over time, plot 'Global_active_power' over time, investigate correlations between numerical features, and visualize correlations using a heatmap.\n",
        "\n"
      ],
      "cell_type": "markdown",
      "metadata": {
        "id": "pX0OJMggnulq"
      }
    },
    {
      "source": [
        "# 5. Analyze data distribution over time\n",
        "plt.figure(figsize=(14, 6))\n",
        "plt.plot(df['datetime'], df['Global_active_power'], color='orange')\n",
        "plt.title('Global Active Power over Time')\n",
        "plt.xlabel('Datetime')\n",
        "plt.ylabel('Global Active Power')\n",
        "plt.show()\n",
        "\n",
        "# 6. Investigate correlations and visualize using a heatmap\n",
        "plt.figure(figsize=(12, 8))\n",
        "correlation_matrix = df[numerical_cols].corr()\n",
        "sns.heatmap(correlation_matrix, annot=True, cmap='coolwarm', fmt=\".2f\")\n",
        "plt.title('Correlation Matrix of Numerical Features')\n",
        "plt.show()\n",
        "\n",
        "# 7. Summarize findings\n",
        "print(\"Summary:\")\n",
        "print(\"The dataset contains 2075259 rows and 10 columns. Missing values exist in several columns, primarily the power consumption variables.\")\n",
        "print(\"The descriptive statistics reveal the central tendencies and spread of numerical features. The distribution of Global_active_power is skewed to the right.\")\n",
        "print(\"The time-series plot shows fluctuations in Global_active_power over time. The correlation matrix reveals relationships between different numerical features.\")"
      ],
      "cell_type": "code",
      "metadata": {
        "id": "w1jbvW_snu-q"
      },
      "execution_count": null,
      "outputs": []
    },
    {
      "source": [
        "## Data cleaning\n",
        "\n",
        "### Subtask:\n",
        "Clean the data by handling missing values and outliers in the `df` DataFrame.\n"
      ],
      "cell_type": "markdown",
      "metadata": {
        "id": "OInhdc2on0cu"
      }
    },
    {
      "source": [
        "**Reasoning**:\n",
        "Impute missing values using the median for numerical features, handle outliers in 'Global_active_power' using the IQR method, and then verify the cleaning process.\n",
        "\n"
      ],
      "cell_type": "markdown",
      "metadata": {
        "id": "M4rxwZ6ln1rE"
      }
    },
    {
      "source": [
        "# Impute missing values using the median for numerical features\n",
        "numerical_cols = df.select_dtypes(include=['number']).columns\n",
        "for col in numerical_cols:\n",
        "    if df[col].isnull().any():\n",
        "        df[col].fillna(df[col].median(), inplace=True)\n",
        "\n",
        "# Handle outliers in 'Global_active_power' using the IQR method\n",
        "Q1 = df['Global_active_power'].quantile(0.25)\n",
        "Q3 = df['Global_active_power'].quantile(0.75)\n",
        "IQR = Q3 - Q1\n",
        "lower_bound = Q1 - 1.5 * IQR\n",
        "upper_bound = Q3 + 1.5 * IQR\n",
        "\n",
        "df['Global_active_power'] = df['Global_active_power'].clip(lower=lower_bound, upper=upper_bound)\n",
        "\n",
        "# Verify the cleaning process\n",
        "print(\"\\nMissing Values after imputation:\\n\", df.isnull().sum())\n",
        "\n",
        "plt.figure(figsize=(10, 6))\n",
        "plt.hist(df['Global_active_power'], bins=50, color='skyblue', edgecolor='black')\n",
        "plt.title('Distribution of Global Active Power after cleaning')\n",
        "plt.xlabel('Global Active Power')\n",
        "plt.ylabel('Frequency')\n",
        "plt.show()"
      ],
      "cell_type": "code",
      "metadata": {
        "id": "umafnXb2n2Dx"
      },
      "execution_count": null,
      "outputs": []
    },
    {
      "source": [
        "**Reasoning**:\n",
        "The previous code block had a warning about chained assignment.  I will rewrite the code to correct this, and then display the cleaned data and finish the subtask.\n",
        "\n"
      ],
      "cell_type": "markdown",
      "metadata": {
        "id": "TQbc-XFMn4Wg"
      }
    },
    {
      "source": [
        "# Impute missing values using the median for numerical features\n",
        "numerical_cols = df.select_dtypes(include=['number']).columns\n",
        "for col in numerical_cols:\n",
        "    if df[col].isnull().any():\n",
        "        df[col] = df[col].fillna(df[col].median())\n",
        "\n",
        "# Handle outliers in 'Global_active_power' using the IQR method\n",
        "Q1 = df['Global_active_power'].quantile(0.25)\n",
        "Q3 = df['Global_active_power'].quantile(0.75)\n",
        "IQR = Q3 - Q1\n",
        "lower_bound = Q1 - 1.5 * IQR\n",
        "upper_bound = Q3 + 1.5 * IQR\n",
        "\n",
        "df['Global_active_power'] = df['Global_active_power'].clip(lower=lower_bound, upper=upper_bound)\n",
        "\n",
        "# Verify the cleaning process\n",
        "print(\"\\nMissing Values after imputation:\\n\", df.isnull().sum())\n",
        "\n",
        "plt.figure(figsize=(10, 6))\n",
        "plt.hist(df['Global_active_power'], bins=50, color='skyblue', edgecolor='black')\n",
        "plt.title('Distribution of Global Active Power after cleaning')\n",
        "plt.xlabel('Global Active Power')\n",
        "plt.ylabel('Frequency')\n",
        "plt.show()\n",
        "\n",
        "display(df.head())"
      ],
      "cell_type": "code",
      "metadata": {
        "id": "bg8xWDBFn4vq"
      },
      "execution_count": null,
      "outputs": []
    },
    {
      "source": [
        "## Feature engineering\n",
        "\n",
        "### Subtask:\n",
        "Engineer new features from the existing data in the `df` DataFrame to improve model performance.\n"
      ],
      "cell_type": "markdown",
      "metadata": {
        "id": "vvJRGJlMn8ga"
      }
    },
    {
      "source": [
        "**Reasoning**:\n",
        "Create new features based on the datetime column, interaction features, and lagged features as instructed.\n",
        "\n"
      ],
      "cell_type": "markdown",
      "metadata": {
        "id": "48BcOTcNn9vJ"
      }
    },
    {
      "source": [
        "# Feature engineering\n",
        "\n",
        "# 1. Datetime features\n",
        "df['hour'] = df['datetime'].dt.hour\n",
        "df['dayofweek'] = df['datetime'].dt.dayofweek\n",
        "df['month'] = df['datetime'].dt.month\n",
        "df['is_weekend'] = (df['dayofweek'] >= 5).astype(int)  # 1 for weekend, 0 for weekday\n",
        "\n",
        "\n",
        "# 2. Interaction features\n",
        "df['intensity_voltage_interaction'] = df['Global_intensity'] * df['Voltage']\n",
        "\n",
        "\n",
        "# 3. Lagged features\n",
        "# Try adding a 1-hour lag to Global_active_power\n",
        "df['Global_active_power_lag1'] = df['Global_active_power'].shift(1)\n",
        "\n",
        "\n",
        "# 4. Optional aggregated sub-metering feature\n",
        "df['Sub_metering_sum'] = df['Sub_metering_1'] + df['Sub_metering_2'] + df['Sub_metering_3']\n",
        "\n",
        "\n",
        "# Display the first few rows with the new features.\n",
        "display(df.head())"
      ],
      "cell_type": "code",
      "metadata": {
        "id": "xANRFMiAn-HZ"
      },
      "execution_count": null,
      "outputs": []
    },
    {
      "source": [
        "## Data preparation\n",
        "\n",
        "### Subtask:\n",
        "Prepare the data for model training by handling the datetime column and scaling numerical features.\n"
      ],
      "cell_type": "markdown",
      "metadata": {
        "id": "auH7oyC-oBou"
      }
    },
    {
      "source": [
        "**Reasoning**:\n",
        "Drop the redundant 'Date', 'Time', and 'datetime' columns, remove rows with NaN values in 'Global_active_power_lag1', and scale the numerical features using StandardScaler, excluding the target variable 'Global_active_power'.\n",
        "\n"
      ],
      "cell_type": "markdown",
      "metadata": {
        "id": "UDsq87s9oC22"
      }
    },
    {
      "source": [
        "import numpy as np\n",
        "from sklearn.preprocessing import StandardScaler\n",
        "\n",
        "# Drop redundant columns\n",
        "df = df.drop(['Date', 'Time', 'datetime'], axis=1)\n",
        "\n",
        "# Handle NaN values in the lagged feature\n",
        "df = df.dropna(subset=['Global_active_power_lag1'])\n",
        "\n",
        "# Separate features and target variable\n",
        "X = df.drop('Global_active_power', axis=1)\n",
        "y = df['Global_active_power']\n",
        "\n",
        "# Scale numerical features\n",
        "numerical_cols = X.select_dtypes(include=np.number).columns\n",
        "scaler = StandardScaler()\n",
        "X[numerical_cols] = scaler.fit_transform(X[numerical_cols])\n",
        "\n",
        "# Reconstruct the DataFrame\n",
        "df = pd.concat([y, X], axis=1)\n",
        "\n",
        "display(df.head())"
      ],
      "cell_type": "code",
      "metadata": {
        "id": "TtV0DYHZoDPh"
      },
      "execution_count": null,
      "outputs": []
    },
    {
      "cell_type": "code",
      "source": [
        "\n",
        "df = df.sample(n=1000, random_state=42)\n"
      ],
      "metadata": {
        "id": "nCrSpvMHzF8-"
      },
      "execution_count": null,
      "outputs": []
    },
    {
      "source": [
        "## Data splitting\n",
        "\n",
        "### Subtask:\n",
        "Split the prepared data into training, validation, and testing sets.\n"
      ],
      "cell_type": "markdown",
      "metadata": {
        "id": "1C3N_fLQoHgQ"
      }
    },
    {
      "source": [
        "**Reasoning**:\n",
        "Split the data into training, validation, and testing sets as instructed.\n",
        "\n"
      ],
      "cell_type": "markdown",
      "metadata": {
        "id": "shfjAT7PoIe0"
      }
    },
    {
      "source": [
        "from sklearn.model_selection import train_test_split\n",
        "\n",
        "# Separate features (X) and target variable (y)\n",
        "X = df.drop('Global_active_power', axis=1)\n",
        "y = df['Global_active_power']\n",
        "\n",
        "# Split data into training and temporary sets\n",
        "X_train, X_temp, y_train, y_temp = train_test_split(X, y, test_size=0.2, random_state=42)\n",
        "\n",
        "# Split temporary set into validation and testing sets\n",
        "X_val, X_test, y_val, y_test = train_test_split(X_temp, y_temp, test_size=0.5, random_state=42)\n",
        "\n",
        "print(f\"Training data shape: X={X_train.shape}, y={y_train.shape}\")\n",
        "print(f\"Validation data shape: X={X_val.shape}, y={y_val.shape}\")\n",
        "print(f\"Testing data shape: X={X_test.shape}, y={y_test.shape}\")"
      ],
      "cell_type": "code",
      "metadata": {
        "id": "1221pzCJoI25"
      },
      "execution_count": null,
      "outputs": []
    },
    {
      "source": [
        "## Model training\n",
        "\n",
        "### Subtask:\n",
        "Train three regression models: Linear Regression, Random Forest Regressor, and Gradient Boosting Regressor on the prepared training data.\n"
      ],
      "cell_type": "markdown",
      "metadata": {
        "id": "IJv1X5ZroMoK"
      }
    },
    {
      "source": [
        "**Reasoning**:\n",
        "Train three regression models: Linear Regression, Random Forest Regressor, and Gradient Boosting Regressor on the prepared training data.\n",
        "\n"
      ],
      "cell_type": "markdown",
      "metadata": {
        "id": "CH4y_5fEoN1l"
      }
    },
    {
      "source": [
        "from sklearn.linear_model import LinearRegression\n",
        "from sklearn.ensemble import RandomForestRegressor, GradientBoostingRegressor\n",
        "\n",
        "# Initialize the models\n",
        "lr_model = LinearRegression()\n",
        "rf_model = RandomForestRegressor()\n",
        "gb_model = GradientBoostingRegressor()\n",
        "\n",
        "# Train the models\n",
        "lr_model.fit(X_train, y_train)\n",
        "rf_model.fit(X_train, y_train)\n",
        "gb_model.fit(X_train, y_train)"
      ],
      "cell_type": "code",
      "metadata": {
        "id": "3eSYKDsioOOp"
      },
      "execution_count": null,
      "outputs": []
    },
    {
      "cell_type": "code",
      "source": [
        "# prompt: import mean_squared_error r2 score\n",
        "\n",
        "from sklearn.metrics import mean_squared_error, r2_score\n",
        "\n",
        "# Make predictions on the validation set\n",
        "lr_pred = lr_model.predict(X_val)\n",
        "rf_pred = rf_model.predict(X_val)\n",
        "gb_pred = gb_model.predict(X_val)\n",
        "\n",
        "# Evaluate the models\n",
        "print(\"Linear Regression:\")\n",
        "print(f\"  Mean Squared Error: {mean_squared_error(y_val, lr_pred)}\")\n",
        "print(f\"  R-squared: {r2_score(y_val, lr_pred)}\")\n",
        "\n",
        "print(\"\\nRandom Forest Regressor:\")\n",
        "print(f\"  Mean Squared Error: {mean_squared_error(y_val, rf_pred)}\")\n",
        "print(f\"  R-squared: {r2_score(y_val, rf_pred)}\")\n",
        "\n",
        "print(\"\\nGradient Boosting Regressor:\")\n",
        "print(f\"  Mean Squared Error: {mean_squared_error(y_val, gb_pred)}\")\n",
        "print(f\"  R-squared: {r2_score(y_val, gb_pred)}\")\n"
      ],
      "metadata": {
        "id": "KuErcRYkyoRy"
      },
      "execution_count": null,
      "outputs": []
    }
  ]
}